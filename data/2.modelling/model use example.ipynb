{
 "cells": [
  {
   "cell_type": "code",
   "execution_count": 9,
   "metadata": {},
   "outputs": [
    {
     "name": "stdout",
     "output_type": "stream",
     "text": [
      "Loading model to predict...\n",
      "[ 69890.9558458]\n"
     ]
    },
    {
     "data": {
      "text/html": [
       "<div>\n",
       "<style>\n",
       "    .dataframe thead tr:only-child th {\n",
       "        text-align: right;\n",
       "    }\n",
       "\n",
       "    .dataframe thead th {\n",
       "        text-align: left;\n",
       "    }\n",
       "\n",
       "    .dataframe tbody tr th {\n",
       "        vertical-align: top;\n",
       "    }\n",
       "</style>\n",
       "<table border=\"1\" class=\"dataframe\">\n",
       "  <thead>\n",
       "    <tr style=\"text-align: right;\">\n",
       "      <th></th>\n",
       "      <th>0</th>\n",
       "    </tr>\n",
       "  </thead>\n",
       "  <tbody>\n",
       "    <tr>\n",
       "      <th>count</th>\n",
       "      <td>1.000000</td>\n",
       "    </tr>\n",
       "    <tr>\n",
       "      <th>mean</th>\n",
       "      <td>69890.955846</td>\n",
       "    </tr>\n",
       "    <tr>\n",
       "      <th>std</th>\n",
       "      <td>NaN</td>\n",
       "    </tr>\n",
       "    <tr>\n",
       "      <th>min</th>\n",
       "      <td>69890.955846</td>\n",
       "    </tr>\n",
       "    <tr>\n",
       "      <th>25%</th>\n",
       "      <td>69890.955846</td>\n",
       "    </tr>\n",
       "    <tr>\n",
       "      <th>50%</th>\n",
       "      <td>69890.955846</td>\n",
       "    </tr>\n",
       "    <tr>\n",
       "      <th>75%</th>\n",
       "      <td>69890.955846</td>\n",
       "    </tr>\n",
       "    <tr>\n",
       "      <th>max</th>\n",
       "      <td>69890.955846</td>\n",
       "    </tr>\n",
       "  </tbody>\n",
       "</table>\n",
       "</div>"
      ],
      "text/plain": [
       "                  0\n",
       "count      1.000000\n",
       "mean   69890.955846\n",
       "std             NaN\n",
       "min    69890.955846\n",
       "25%    69890.955846\n",
       "50%    69890.955846\n",
       "75%    69890.955846\n",
       "max    69890.955846"
      ]
     },
     "execution_count": 9,
     "metadata": {},
     "output_type": "execute_result"
    }
   ],
   "source": [
    "import lightgbm as lgb\n",
    "import pandas as pd\n",
    "import numpy as np\n",
    "from sklearn.metrics import mean_squared_error\n",
    "\n",
    "print('Loading model to predict...')\n",
    "# load model to predict\n",
    "bst = lgb.Booster(model_file='model_lotte.txt')\n",
    "# can only predict with the best iteration (or the saving iteration)\n",
    "\n",
    "path = \"c:/Users/Jiwan/Desktop/Hackathon/\"\n",
    "lotte = pd.read_csv(path+'lotte.csv')\n",
    "X_test = lotte.iloc[2,3:]\n",
    "\n",
    "y_pred = bst.predict(X_test)\n",
    "# eval with loaded model\n",
    "print(y_pred)\n",
    "pd.DataFrame(y_pred).describe()"
   ]
  },
  {
   "cell_type": "code",
   "execution_count": 10,
   "metadata": {},
   "outputs": [
    {
     "data": {
      "text/plain": [
       "numpy.ndarray"
      ]
     },
     "execution_count": 10,
     "metadata": {},
     "output_type": "execute_result"
    }
   ],
   "source": [
    "y_pred\n",
    "\n",
    "# park\n",
    "if y_pred < 20851 :\n",
    "    pred = \"한산\"\n",
    "elif y_pred < 23378 :\n",
    "    pred = \"적정\"\n",
    "elif y_pred < 24488 :\n",
    "    pred = \"다소혼잡\" \n",
    "else : \n",
    "    pred = \"혼잡\" \n",
    "    \n",
    "# lotte\n",
    "if y_pred < 54092 :\n",
    "    pred = \"한산\"\n",
    "elif y_pred < 60393 :\n",
    "    pred = \"적정\"\n",
    "elif y_pred < 65424 :\n",
    "    pred = \"다소혼잡\" \n",
    "else : \n",
    "    pred = \"혼잡\" \n",
    "    \n",
    "# nam\n",
    "if y_pred < 23801 :\n",
    "    pred = \"한산\"\n",
    "elif y_pred < 30866 :\n",
    "    pred = \"적정\"\n",
    "elif y_pred < 32208 :\n",
    "    pred = \"다소혼잡\" \n",
    "else : \n",
    "    pred = \"혼잡\" \n",
    "    \n",
    "# gyeong\n",
    "if y_pred < 19469 :\n",
    "    pred = \"한산\"\n",
    "elif y_pred < 21697 :\n",
    "    pred = \"적정\"\n",
    "elif y_pred < 23005 :\n",
    "    pred = \"다소혼잡\" \n",
    "else : \n",
    "    pred = \"혼잡\" \n",
    "    \n",
    "# duk\n",
    "if y_pred < 49204 :\n",
    "    pred = \"한산\"\n",
    "elif y_pred < 72569 :\n",
    "    pred = \"적정\"\n",
    "elif y_pred < 76118 :\n",
    "    pred = \"다소혼잡\" \n",
    "else : \n",
    "    pred = \"혼잡\" \n",
    "    \n",
    "# buk\n",
    "if y_pred < 10571 :\n",
    "    pred = \"한산\"\n",
    "elif y_pred < 12624 :\n",
    "    pred = \"적정\"\n",
    "elif y_pred < 13075 :\n",
    "    pred = \"다소혼잡\" \n",
    "else : \n",
    "    pred = \"혼잡\" \n"
   ]
  },
  {
   "cell_type": "code",
   "execution_count": null,
   "metadata": {},
   "outputs": [],
   "source": [
    "y_pred\n",
    "\n",
    "# park\n",
    "if y_pred < 20851 :\n",
    "    pred = \"한산\"\n",
    "elif y_pred < 23378 :\n",
    "    pred = \"적정\"\n",
    "elif y_pred < 24488 :\n",
    "    pred = \"다소혼잡\" \n",
    "else : \n",
    "    pred = \"혼잡\" "
   ]
  }
 ],
 "metadata": {
  "kernelspec": {
   "display_name": "ML",
   "language": "python",
   "name": "tensorflow"
  },
  "language_info": {
   "codemirror_mode": {
    "name": "ipython",
    "version": 3
   },
   "file_extension": ".py",
   "mimetype": "text/x-python",
   "name": "python",
   "nbconvert_exporter": "python",
   "pygments_lexer": "ipython3",
   "version": "3.6.7"
  }
 },
 "nbformat": 4,
 "nbformat_minor": 2
}
