{
 "cells": [
  {
   "cell_type": "code",
   "execution_count": 11,
   "metadata": {},
   "outputs": [
    {
     "data": {
      "text/plain": [
       "(1, 13)"
      ]
     },
     "execution_count": 11,
     "metadata": {},
     "output_type": "execute_result"
    }
   ],
   "source": [
    "import datetime \n",
    "import pandas as pd\n",
    "# 0~6 : 월~일 \n",
    "\n",
    "r = datetime.datetime.today().weekday()\n",
    "r\n",
    "X_test = pd.DataFrame([[0,0,1,0,0,0,0,0,37.12,1,0,0,0]])\n",
    "X_test.shape"
   ]
  },
  {
   "cell_type": "code",
   "execution_count": 57,
   "metadata": {},
   "outputs": [
    {
     "name": "stdout",
     "output_type": "stream",
     "text": [
      "[20180101, 20180215, 20180216, 20180217, 20180301, 20180505, 20180507, 20180522, 20180606, 20180613, 20180815, 20180923, 20180924, 20180925, 20180926, 20181003, 20181009, 20181225]\n"
     ]
    }
   ],
   "source": [
    "holi = pd.read_csv('c:/Users/Jiwan/Desktop/Hackathon/holi.csv',encoding='CP949')\n",
    "holi_list = holi.iloc[:,2]\n",
    "print(holi_list.tolist())"
   ]
  },
  {
   "cell_type": "code",
   "execution_count": 58,
   "metadata": {},
   "outputs": [],
   "source": [
    "\n",
    "target_origin = '20181225'\n",
    "target_date = datetime.datetime.strptime(target_origin, \"%Y%m%d\").date()\n",
    "# target_date = datetime.date(2018,12,25)\n",
    "week1 = target_date.weekday()\n",
    "X_test = pd.DataFrame([[0, 0,0,0,0,0,0,0, 0, 0,0,0,0]])\n",
    "if int(target_origin) in holi_list.tolist() :\n",
    "    X_test.iloc[0,0] = 1\n",
    "if week1 == 6 :\n",
    "    X_test.iloc[0,1] = 1\n",
    "if week1 == 0 :\n",
    "    X_test.iloc[0,2] = 1\n",
    "if week1 == 1 :\n",
    "    X_test.iloc[0,3] = 1\n",
    "if week1 == 2 :\n",
    "    X_test.iloc[0,4] = 1\n",
    "if week1 == 3 :\n",
    "    X_test.iloc[0,5] = 1\n",
    "if week1 == 4 :\n",
    "    X_test.iloc[0,6] = 1\n",
    "if week1 == 5 :\n",
    "    X_test.iloc[0,7] = 1\n"
   ]
  },
  {
   "cell_type": "code",
   "execution_count": 59,
   "metadata": {},
   "outputs": [
    {
     "name": "stdout",
     "output_type": "stream",
     "text": [
      "2018-12-25\n"
     ]
    },
    {
     "data": {
      "text/html": [
       "<div>\n",
       "<style>\n",
       "    .dataframe thead tr:only-child th {\n",
       "        text-align: right;\n",
       "    }\n",
       "\n",
       "    .dataframe thead th {\n",
       "        text-align: left;\n",
       "    }\n",
       "\n",
       "    .dataframe tbody tr th {\n",
       "        vertical-align: top;\n",
       "    }\n",
       "</style>\n",
       "<table border=\"1\" class=\"dataframe\">\n",
       "  <thead>\n",
       "    <tr style=\"text-align: right;\">\n",
       "      <th></th>\n",
       "      <th>0</th>\n",
       "      <th>1</th>\n",
       "      <th>2</th>\n",
       "      <th>3</th>\n",
       "      <th>4</th>\n",
       "      <th>5</th>\n",
       "      <th>6</th>\n",
       "      <th>7</th>\n",
       "      <th>8</th>\n",
       "      <th>9</th>\n",
       "      <th>10</th>\n",
       "      <th>11</th>\n",
       "      <th>12</th>\n",
       "    </tr>\n",
       "  </thead>\n",
       "  <tbody>\n",
       "    <tr>\n",
       "      <th>0</th>\n",
       "      <td>1</td>\n",
       "      <td>0</td>\n",
       "      <td>0</td>\n",
       "      <td>1</td>\n",
       "      <td>0</td>\n",
       "      <td>0</td>\n",
       "      <td>0</td>\n",
       "      <td>0</td>\n",
       "      <td>0</td>\n",
       "      <td>0</td>\n",
       "      <td>0</td>\n",
       "      <td>0</td>\n",
       "      <td>0</td>\n",
       "    </tr>\n",
       "  </tbody>\n",
       "</table>\n",
       "</div>"
      ],
      "text/plain": [
       "   0   1   2   3   4   5   6   7   8   9   10  11  12\n",
       "0   1   0   0   1   0   0   0   0   0   0   0   0   0"
      ]
     },
     "execution_count": 59,
     "metadata": {},
     "output_type": "execute_result"
    }
   ],
   "source": [
    "print(target_date)\n",
    "X_test"
   ]
  },
  {
   "cell_type": "code",
   "execution_count": null,
   "metadata": {},
   "outputs": [],
   "source": []
  }
 ],
 "metadata": {
  "kernelspec": {
   "display_name": "ML",
   "language": "python",
   "name": "tensorflow"
  },
  "language_info": {
   "codemirror_mode": {
    "name": "ipython",
    "version": 3
   },
   "file_extension": ".py",
   "mimetype": "text/x-python",
   "name": "python",
   "nbconvert_exporter": "python",
   "pygments_lexer": "ipython3",
   "version": "3.6.7"
  }
 },
 "nbformat": 4,
 "nbformat_minor": 2
}
