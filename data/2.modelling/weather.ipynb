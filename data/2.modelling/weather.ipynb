{
 "cells": [
  {
   "cell_type": "code",
   "execution_count": 1,
   "metadata": {
    "scrolled": true
   },
   "outputs": [
    {
     "name": "stdout",
     "output_type": "stream",
     "text": [
      "서울\n",
      "['구름많음', '구름많음', '구름많고 비', '구름많고 비', '구름많음', '구름조금', '구름조금', '구름조금', '구름조금', '구름조금', '구름조금']\n",
      "[2, 2, 3, 3, 2, 1, 1, 1, 1, 1, 1]\n",
      "['8.00', '11.00', '13', '13', '9', '4', '3', '0', '0', '1', '3']\n",
      "['0.00', '1.00', '8', '8', '5', '-2', '-1', '-6', '-7', '-6', '-5']\n"
     ]
    }
   ],
   "source": [
    "import requests\n",
    "import json\n",
    "\n",
    "appkey = \"edd40da6-5b28-44ab-8df2-7d80e24099f3\"\n",
    "\n",
    "#URL\n",
    "url_days = \"https://api2.sktelecom.com/weather/forecast/6days\"\n",
    "url_summary = \"https://api2.sktelecom.com/weather/summary\"\n",
    "# 헤더\n",
    "headers = {'Content-Type': 'application/json; charset=utf-8',\n",
    "           'appKey': appkey}\n",
    "\n",
    "#위치정보 : 서울시 송파구 풍납동\n",
    "params = {\"version\": \"1\",\n",
    "              \"lat\": \"37.53255\",\n",
    "              \"lon\": \"127.10494\"\n",
    "              }\n",
    "response1 = requests.get(url_summary, params=params, headers=headers)\n",
    "weather1 = response1.json()\n",
    "\n",
    "\n",
    "response2 = requests.get(url_days, params=params, headers=headers)\n",
    "weather2 = response2.json()\n",
    "\n",
    "#장소\n",
    "place = weather2['weather'][\"forecast6days\"][0][\"grid\"][\"city\"]\n",
    "print(place)\n",
    "\n",
    "#오후6시 기준 구름양\n",
    "sky = []\n",
    "sky.append(weather1[\"weather\"][\"summary\"][0][\"today\"][\"sky\"][\"name\"])\n",
    "sky.append(weather1[\"weather\"][\"summary\"][0][\"tomorrow\"][\"sky\"][\"name\"])\n",
    "\n",
    "for i in range(2,11,1):\n",
    "    sky.append(weather2['weather'][\"forecast6days\"][0][\"sky\"][\"pmName%dday\"%i])\n",
    "print(sky)\n",
    "\n",
    "weather = []\n",
    "for data in sky :\n",
    "    if data == \"맑음\" or data == \"구름조금\" :\n",
    "        weather.append(1)\n",
    "    elif data == \"구름많음\" or data == \"흐림\":\n",
    "        weather.append(2)\n",
    "    elif data == \"흐리고 비\" or data == \"구름많고 비\" \\\n",
    "         or data == \"소나기\" or data == \"비 또는 눈\" :\n",
    "             weather.append(3)\n",
    "    else :\n",
    "        weather.append(4)\n",
    "\n",
    "print(weather)\n",
    "            \n",
    "\n",
    "#일자별 최고기온\n",
    "tmax = []\n",
    "tmax.append(weather1[\"weather\"][\"summary\"][0][\"today\"][\"temperature\"][\"tmax\"])\n",
    "tmax.append(weather1[\"weather\"][\"summary\"][0][\"tomorrow\"][\"temperature\"][\"tmax\"])\n",
    "\n",
    "for i in range(2,11,1):\n",
    "    tmax.append(weather2['weather'][\"forecast6days\"][0][\"temperature\"][\"tmax%dday\"%i])\n",
    "print(tmax)\n",
    "\n",
    "\n",
    "#일자별 최저기온\n",
    "tmin = []\n",
    "tmin.append(weather1[\"weather\"][\"summary\"][0][\"today\"][\"temperature\"][\"tmin\"])\n",
    "tmin.append(weather1[\"weather\"][\"summary\"][0][\"tomorrow\"][\"temperature\"][\"tmin\"])\n",
    "\n",
    "for i in range(2,11,1):\n",
    "    tmin.append(weather2['weather'][\"forecast6days\"][0][\"temperature\"][\"tmin%dday\"%i])\n",
    "print(tmin)\n",
    "\n",
    "#오늘부터 +10일 까지 총 11개의 데이터\n",
    "\n",
    "#caregory\n",
    "# 10가지\n",
    "##맑음 , 구름조금 : 1\n",
    "##구름많음, 흐림 : 2\n",
    "##흐리고 비, 구름많고 비, 소나기, 비 또는 눈 : 3\n",
    "##구름많고 눈 , 흐리고 눈 : 4"
   ]
  },
  {
   "cell_type": "code",
   "execution_count": null,
   "metadata": {},
   "outputs": [],
   "source": []
  }
 ],
 "metadata": {
  "kernelspec": {
   "display_name": "ML",
   "language": "python",
   "name": "tensorflow"
  },
  "language_info": {
   "codemirror_mode": {
    "name": "ipython",
    "version": 3
   },
   "file_extension": ".py",
   "mimetype": "text/x-python",
   "name": "python",
   "nbconvert_exporter": "python",
   "pygments_lexer": "ipython3",
   "version": "3.6.7"
  }
 },
 "nbformat": 4,
 "nbformat_minor": 2
}
